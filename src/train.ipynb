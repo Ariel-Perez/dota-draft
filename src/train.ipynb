{
 "cells": [
  {
   "cell_type": "code",
   "execution_count": null,
   "metadata": {},
   "outputs": [],
   "source": [
    "import tensorflow as tf\n",
    "from tensorflow import keras"
   ]
  },
  {
   "cell_type": "code",
   "execution_count": null,
   "metadata": {},
   "outputs": [],
   "source": [
    "input_pattern = 'gs://dota-draft/data/matches/05032020*'\n",
    "filenames = tf.io.gfile.glob(input_pattern)\n",
    "filenames"
   ]
  },
  {
   "cell_type": "code",
   "execution_count": null,
   "metadata": {},
   "outputs": [],
   "source": [
    "def serialize_example(data):\n",
    "    radiant = tf.train.Int64List(value=data['radiant_picks'])\n",
    "    dire = tf.train.Int64List(value=data['dire_picks'])\n",
    "    label = tf.train.Int64List(value=[data['radiant_win']])\n",
    "    features = tf.train.Features(\n",
    "        feature = {\n",
    "            'radiant': tf.train.Feature(int64_list=radiant),\n",
    "            'dire': tf.train.Feature(int64_list=dire),\n",
    "            'label': tf.train.Feature(int64_list=label),\n",
    "        }\n",
    "    )\n",
    "    example = tf.train.Example(features=features)\n",
    "    return example.SerializeToString()"
   ]
  },
  {
   "cell_type": "code",
   "execution_count": null,
   "metadata": {},
   "outputs": [],
   "source": [
    "def csv_to_tfrecords(in_filename, out_filename, compression_type=None):\n",
    "    dataset = tf.data.TextLineDataset(in_filename)\n",
    "    options = tf.io.TFRecordOptions(compression_type=compression_type)\n",
    "    with tf.io.TFRecordWriter(out_filename, options) as writer:\n",
    "        for instance in dataset:\n",
    "            data = json.loads(instance.numpy())\n",
    "            writer.write(serialize_example(data))"
   ]
  },
  {
   "cell_type": "code",
   "execution_count": null,
   "metadata": {},
   "outputs": [],
   "source": [
    "for filename in filenames:\n",
    "    tf_record_filename = filename.replace('matches', 'records') + '.tfrecords'\n",
    "    csv_to_tfrecords(filename, tf_record_filename)"
   ]
  },
  {
   "cell_type": "code",
   "execution_count": null,
   "metadata": {},
   "outputs": [],
   "source": [
    "expected_features = {\n",
    "    'radiant': tf.io.FixedLenFeature([5], dtype=tf.int64),\n",
    "    'dire': tf.io.FixedLenFeature([5], dtype=tf.int64),\n",
    "    'label': tf.io.FixedLenFeature([1], dtype=tf.int64),\n",
    "}\n",
    "\n",
    "def parse_tfrecord(serialized_example):\n",
    "    example = tf.io.parse_single_example(serialized_example,\n",
    "                                         expected_features)\n",
    "    return tf.concat([example['radiant'], example['dire']], axis=0), example['label']"
   ]
  },
  {
   "cell_type": "code",
   "execution_count": null,
   "metadata": {},
   "outputs": [],
   "source": [
    "def tfrecords_reader_dataset(filenames, batch_size=32,\n",
    "                             shuffle_buffer_size=10000, n_readers=5):\n",
    "    dataset = tf.data.Dataset.list_files(filenames)\n",
    "    dataset = dataset.repeat()\n",
    "    dataset = dataset.interleave(\n",
    "        lambda filename: tf.data.TFRecordDataset(filename),\n",
    "        cycle_length=n_readers)\n",
    "    dataset.shuffle(shuffle_buffer_size)\n",
    "    dataset = dataset.map(parse_tfrecord,\n",
    "                          num_parallel_calls=tf.data.experimental.AUTOTUNE).batch(batch_size)\n",
    "    return dataset.prefetch(1)"
   ]
  },
  {
   "cell_type": "code",
   "execution_count": null,
   "metadata": {},
   "outputs": [],
   "source": [
    "input_pattern = 'gs://dota-draft/data/records/05032020*.tfrecords'\n",
    "filenames = tf.io.gfile.glob(input_pattern)[:1]\n",
    "filenames"
   ]
  },
  {
   "cell_type": "code",
   "execution_count": null,
   "metadata": {},
   "outputs": [],
   "source": [
    "dataset = tfrecords_reader_dataset(filenames, shuffle_buffer_size=10)"
   ]
  },
  {
   "cell_type": "code",
   "execution_count": null,
   "metadata": {},
   "outputs": [],
   "source": [
    "model = keras.models.Sequential([\n",
    "    keras.layers.Dense(30, activation='relu', input_shape=[10]),\n",
    "    keras.layers.Dense(1),\n",
    "])"
   ]
  },
  {
   "cell_type": "code",
   "execution_count": null,
   "metadata": {},
   "outputs": [],
   "source": [
    "model.summary()"
   ]
  },
  {
   "cell_type": "code",
   "execution_count": null,
   "metadata": {},
   "outputs": [],
   "source": [
    "keras.utils.plot_model(model, \"my_model.png\", show_shapes=True)"
   ]
  },
  {
   "cell_type": "code",
   "execution_count": null,
   "metadata": {},
   "outputs": [],
   "source": [
    "model.compile(loss='binary_crossentropy', optimizer=keras.optimizers.SGD(lr=1e-3))"
   ]
  },
  {
   "cell_type": "code",
   "execution_count": null,
   "metadata": {},
   "outputs": [],
   "source": [
    "model.fit(dataset, epochs=10)"
   ]
  }
 ],
 "metadata": {
  "language_info": {
   "codemirror_mode": {
    "name": "ipython",
    "version": 3
   },
   "file_extension": ".py",
   "mimetype": "text/x-python",
   "name": "python",
   "nbconvert_exporter": "python",
   "pygments_lexer": "ipython3",
   "version": 3
  },
  "orig_nbformat": 2
 },
 "nbformat": 4,
 "nbformat_minor": 2
}